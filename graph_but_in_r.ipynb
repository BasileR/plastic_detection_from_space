{
 "cells": [
  {
   "cell_type": "code",
   "execution_count": 7,
   "metadata": {},
   "outputs": [
    {
     "name": "stdout",
     "output_type": "stream",
     "text": [
      "package 'tiff' successfully unpacked and MD5 sums checked\n",
      "\n",
      "The downloaded binary packages are in\n",
      "\tC:\\Users\\basil\\AppData\\Local\\Temp\\Rtmp0QWVre\\downloaded_packages\n"
     ]
    }
   ],
   "source": [
    "install.packages('tiff')"
   ]
  },
  {
   "cell_type": "code",
   "execution_count": 8,
   "metadata": {},
   "outputs": [
    {
     "name": "stderr",
     "output_type": "stream",
     "text": [
      "Warning message:\n",
      "\"package 'tiff' was built under R version 3.6.3\""
     ]
    }
   ],
   "source": [
    "library(tiff)"
   ]
  },
  {
   "cell_type": "code",
   "execution_count": 10,
   "metadata": {},
   "outputs": [
    {
     "ename": "ERROR",
     "evalue": "Error in readTIFF(file): unable to open data/Mytilene/M1/2019-06-07-00_00_2019-06-07-23_59_Sentinel-2_L2A_B02_(Raw)\n",
     "output_type": "error",
     "traceback": [
      "Error in readTIFF(file): unable to open data/Mytilene/M1/2019-06-07-00_00_2019-06-07-23_59_Sentinel-2_L2A_B02_(Raw)\nTraceback:\n",
      "1. readTIFF(file)"
     ]
    }
   ],
   "source": [
    "file <- 'data/Mytilene/M1/2019-06-07-00_00_2019-06-07-23_59_Sentinel-2_L2A_B02_(Raw)'\n",
    "test = readTIFF(file)"
   ]
  },
  {
   "cell_type": "code",
   "execution_count": null,
   "metadata": {},
   "outputs": [],
   "source": []
  }
 ],
 "metadata": {
  "kernelspec": {
   "display_name": "R",
   "language": "R",
   "name": "ir"
  },
  "language_info": {
   "codemirror_mode": "r",
   "file_extension": ".r",
   "mimetype": "text/x-r-source",
   "name": "R",
   "pygments_lexer": "r",
   "version": "3.6.1"
  }
 },
 "nbformat": 4,
 "nbformat_minor": 4
}
