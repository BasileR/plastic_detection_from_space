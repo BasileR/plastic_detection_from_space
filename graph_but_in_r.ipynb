{
 "cells": [
  {
   "cell_type": "code",
   "execution_count": 7,
   "metadata": {},
   "outputs": [
    {
     "name": "stdout",
     "output_type": "stream",
     "text": [
      "package 'tiff' successfully unpacked and MD5 sums checked\n",
      "\n",
      "The downloaded binary packages are in\n",
      "\tC:\\Users\\basil\\AppData\\Local\\Temp\\Rtmp0QWVre\\downloaded_packages\n"
     ]
    }
   ],
   "source": [
    "install.packages('tiff')"
   ]
  },
  {
   "cell_type": "code",
   "execution_count": 2,
   "metadata": {},
   "outputs": [],
   "source": [
    "library(tiff)"
   ]
  },
  {
   "cell_type": "code",
   "execution_count": 5,
   "metadata": {},
   "outputs": [
    {
     "name": "stderr",
     "output_type": "stream",
     "text": [
      "Warning message in readTIFF(file):\n",
      "\"TIFFReadDirectory: Unknown field with tag 33550 (0x830e) encountered\"Warning message in readTIFF(file):\n",
      "\"TIFFReadDirectory: Unknown field with tag 33922 (0x8482) encountered\"Warning message in readTIFF(file):\n",
      "\"TIFFReadDirectory: Unknown field with tag 34735 (0x87af) encountered\"Warning message in readTIFF(file):\n",
      "\"TIFFReadDirectory: Unknown field with tag 34736 (0x87b0) encountered\"Warning message in readTIFF(file):\n",
      "\"TIFFReadDirectory: Unknown field with tag 34737 (0x87b1) encountered\""
     ]
    }
   ],
   "source": [
    "file <- 'data/Mytilene/M1/2019-06-07-00_00_2019-06-07-23_59_Sentinel-2_L2A_B02_(Raw).tiff'\n",
    "test = readTIFF(file)"
   ]
  },
  {
   "cell_type": "code",
   "execution_count": 7,
   "metadata": {},
   "outputs": [
    {
     "ename": "ERROR",
     "evalue": "Error in size(test): impossible de trouver la fonction \"size\"\n",
     "output_type": "error",
     "traceback": [
      "Error in size(test): impossible de trouver la fonction \"size\"\nTraceback:\n"
     ]
    }
   ],
   "source": [
    "size(test)"
   ]
  },
  {
   "cell_type": "code",
   "execution_count": null,
   "metadata": {},
   "outputs": [],
   "source": []
  }
 ],
 "metadata": {
  "kernelspec": {
   "display_name": "R",
   "language": "R",
   "name": "ir"
  },
  "language_info": {
   "codemirror_mode": "r",
   "file_extension": ".r",
   "mimetype": "text/x-r-source",
   "name": "R",
   "pygments_lexer": "r",
   "version": "3.6.1"
  }
 },
 "nbformat": 4,
 "nbformat_minor": 4
}
