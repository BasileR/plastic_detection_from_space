{
 "cells": [
  {
   "cell_type": "markdown",
   "metadata": {},
   "source": [
    "## Import labels"
   ]
  },
  {
   "cell_type": "code",
   "execution_count": 50,
   "metadata": {},
   "outputs": [],
   "source": [
    "import numpy as np\n",
    "\n",
    "import matplotlib.pyplot as plt\n",
    "import utils\n",
    "\n",
    "from sklearn.cluster import KMeans\n",
    "from sklearn import metrics \n",
    "from scipy.spatial.distance import cdist\n",
    "from os import listdir\n",
    "\n",
    "from sklearn.metrics import f1_score\n",
    "from sklearn.model_selection import cross_val_score\n",
    "from sklearn.model_selection import RepeatedStratifiedKFold\n",
    "from sklearn.gaussian_process import GaussianProcessClassifier"
   ]
  },
  {
   "cell_type": "code",
   "execution_count": 51,
   "metadata": {},
   "outputs": [
    {
     "name": "stdout",
     "output_type": "stream",
     "text": [
      "['2019_04_18_M', '2019_05_03_M', '2019_05_08_M', '2019_05_18_M', '2019_05_28_M', '2019_06_07_M', 'label']\n"
     ]
    }
   ],
   "source": [
    "data_dir = './data/'\n",
    "img_name = listdir(data_dir) \n",
    "img_name=img_name[:-1]\n",
    "print(img_name)"
   ]
  },
  {
   "cell_type": "code",
   "execution_count": 52,
   "metadata": {},
   "outputs": [],
   "source": [
    "bands = ['B01','B02','B03','B04','B05','B06','B07','B08','B8A','B09','B11','B12']\n",
    "\n",
    "def get_dataset(data_dir, bands):\n",
    "    labels = []\n",
    "    data = []\n",
    "    img_name = listdir(data_dir)[:-1]\n",
    "    sizes= []\n",
    "    for e in img_name : \n",
    "        if e!='label':\n",
    "            data_im, label_im = utils.get_batch(bands, e, all = False)\n",
    "            sizes.append(data_im.shape[0:2])\n",
    "            flatten_labels = label_im.flatten()\n",
    "            flatten_data = [data_im[:,:,i].flatten() for i in range(len(bands))]\n",
    "            a_concat = np.zeros((flatten_data[0].shape[0],len(bands)))\n",
    "            for i in range(0, len(flatten_data)):\n",
    "                a_concat[:,i] = flatten_data[i]\n",
    "            for k in range(flatten_data[0].shape[0]):\n",
    "                data.append(a_concat[k])\n",
    "            for e in flatten_labels:\n",
    "                labels.append(e)\n",
    "\n",
    "    return data, labels, sizes\n",
    "            \n",
    "    "
   ]
  },
  {
   "cell_type": "code",
   "execution_count": 53,
   "metadata": {},
   "outputs": [],
   "source": [
    "bands = ['B01','B02','B03','B04','B05','B06','B07','B08','B8A','B09','B11','B12']\n",
    "data_images, labels_images, sizes_images = get_dataset(data_dir, bands)"
   ]
  },
  {
   "cell_type": "markdown",
   "metadata": {},
   "source": [
    "## Generating data from Basile's codes"
   ]
  },
  {
   "cell_type": "code",
   "execution_count": 54,
   "metadata": {},
   "outputs": [
    {
     "name": "stdout",
     "output_type": "stream",
     "text": [
      "67 67 (60, 70, 12)\n",
      "12\n"
     ]
    }
   ],
   "source": [
    "patch_list, label_list = utils.get_simplastic_v1()\n",
    "del patch_list[5]\n",
    "del label_list[5]\n",
    "print(len(patch_list), len(label_list) ,patch_list[0].shape)\n",
    "nbands = patch_list[0].shape[2]\n",
    "print(nbands)"
   ]
  },
  {
   "cell_type": "code",
   "execution_count": 55,
   "metadata": {},
   "outputs": [
    {
     "name": "stdout",
     "output_type": "stream",
     "text": [
      "Len list data 281400\n",
      "Len list labels 281400\n"
     ]
    }
   ],
   "source": [
    "data_generated, labels_generated, sizes = get_dataset_from_table(patch_list, label_list, nbands)\n",
    "print(\"Len list data \" + str(len(data_generated)))\n",
    "print(\"Len list labels \" + str(len(labels_generated)))"
   ]
  },
  {
   "cell_type": "markdown",
   "metadata": {},
   "source": [
    "## KNN Classifier"
   ]
  },
  {
   "cell_type": "markdown",
   "metadata": {},
   "source": [
    "#### Create Training and Testing datasets"
   ]
  },
  {
   "cell_type": "code",
   "execution_count": 56,
   "metadata": {},
   "outputs": [],
   "source": [
    "from sklearn.model_selection import train_test_split\n",
    "## We split the dataset into a training and testing set with a ration of 30%\n",
    "\n",
    "X_train,X_test,y_train,y_test = train_test_split(data_images,labels_images,\n",
    "                                                 test_size=0.35,random_state=42, stratify=labels_images)\n",
    "\n",
    "### Faire attention à la proportion de plastique dans les training et testing sets\n"
   ]
  },
  {
   "cell_type": "code",
   "execution_count": 57,
   "metadata": {},
   "outputs": [
    {
     "name": "stdout",
     "output_type": "stream",
     "text": [
      " Taille Training Set = 61378\n",
      " Taille Testing Set = 33050\n"
     ]
    }
   ],
   "source": [
    "print(\" Taille Training Set = \" + str(len(y_train))+ \"\\n Taille Testing Set = \" + str(len(y_test)))"
   ]
  },
  {
   "cell_type": "markdown",
   "metadata": {},
   "source": [
    "#### Finding the best K "
   ]
  },
  {
   "cell_type": "code",
   "execution_count": 58,
   "metadata": {},
   "outputs": [],
   "source": [
    "#import KNeighborsClassifier\n",
    "from sklearn.neighbors import KNeighborsClassifier"
   ]
  },
  {
   "cell_type": "code",
   "execution_count": 59,
   "metadata": {},
   "outputs": [
    {
     "name": "stdout",
     "output_type": "stream",
     "text": [
      "2\n",
      "3\n",
      "4\n",
      "5\n",
      "8\n",
      "10\n",
      "15\n",
      "20\n"
     ]
    }
   ],
   "source": [
    "#Setup arrays to store training and test accuracies\n",
    "neighbors = [2,3,4,5,8,10,15,20]\n",
    "train_recall =np.empty(len(neighbors))\n",
    "test_recall = np.empty(len(neighbors))\n",
    "\n",
    "for i,k in enumerate(neighbors):\n",
    "    print(k)\n",
    "    #Setup a knn classifier with k neighbors\n",
    "    knn = KNeighborsClassifier(n_neighbors=k, metric='euclidean')\n",
    "    \n",
    "    #Fit the model\n",
    "    knn.fit(X_train, y_train)\n",
    "    \n",
    "    #Compute recall on the training set\n",
    "    train_recall[i] = metrics.recall_score(y_train, knn.predict(X_train))\n",
    "    \n",
    "    #Compute recall on the test set\n",
    "    test_recall[i] = metrics.recall_score(y_test, knn.predict(X_test)) "
   ]
  },
  {
   "cell_type": "markdown",
   "metadata": {},
   "source": [
    "On utilise le rappel car il est plus pertinent dans notre étude. "
   ]
  },
  {
   "cell_type": "markdown",
   "metadata": {},
   "source": [
    "#### Plot the result"
   ]
  },
  {
   "cell_type": "code",
   "execution_count": 60,
   "metadata": {},
   "outputs": [
    {
     "data": {
      "image/png": "[encoded data removed]",
      "text/plain": [
       "<Figure size 432x288 with 1 Axes>"
      ]
     },
     "metadata": {
      "needs_background": "light"
     },
     "output_type": "display_data"
    }
   ],
   "source": [
    "#Generate plot\n",
    "plt.title('k-NN Varying number of neighbors')\n",
    "plt.plot(neighbors, test_recall, label='Testing Recall')\n",
    "plt.plot(neighbors, train_recall, label='Training Recall')\n",
    "plt.legend()\n",
    "plt.xlabel('Number of neighbors')\n",
    "plt.ylabel('Rappel ')\n",
    "plt.show()"
   ]
  },
  {
   "cell_type": "markdown",
   "metadata": {},
   "source": [
    "#### Create the best Classifier using the best k"
   ]
  },
  {
   "cell_type": "code",
   "execution_count": 61,
   "metadata": {},
   "outputs": [
    {
     "name": "stdout",
     "output_type": "stream",
     "text": [
      "The best accuracy is = 0.99\n"
     ]
    }
   ],
   "source": [
    "#Setup a knn classifier with k neighbors\n",
    "best_k= 3\n",
    "knn = KNeighborsClassifier(n_neighbors=20)\n",
    "\n",
    "#Fit the model\n",
    "knn.fit(X_train,y_train)\n",
    "\n",
    "best_acc = int(knn.score(X_test,y_test) *100) /100\n",
    "\n",
    "print(\"The best accuracy is = \" + str(best_acc)) ## Les resulats sont à prendre avec du recul\n"
   ]
  },
  {
   "cell_type": "markdown",
   "metadata": {},
   "source": [
    "Meme si les resultats semblent très bons ce n'est pas le cas du tout. En effet, la proportion de  pixels qui ne sont pas du plastique est bien bien plus importante que la proportion de plastique ce qui fausse grandement les resultats. "
   ]
  },
  {
   "cell_type": "code",
   "execution_count": 62,
   "metadata": {},
   "outputs": [],
   "source": [
    "y_predict = knn.predict(X_test) ### Testons sur les données de test"
   ]
  },
  {
   "cell_type": "code",
   "execution_count": 63,
   "metadata": {},
   "outputs": [],
   "source": [
    "cnt_TP = 0\n",
    "cnt_FP = 0\n",
    "cnt_FN = 0\n",
    "cnt_Positifs = 0\n",
    "for i in range(len(y_predict)) :\n",
    "    if y_predict[i] == 1 :\n",
    "        if y_test[i] == 1 :\n",
    "            cnt_TP+=1\n",
    "        else :\n",
    "            cnt_FP+= 1\n",
    "    if y_test[i] == 1 :\n",
    "        cnt_Positifs+=1\n",
    "        if y_predict[i] != 1 :\n",
    "            cnt_FN+=1"
   ]
  },
  {
   "cell_type": "code",
   "execution_count": 64,
   "metadata": {},
   "outputs": [
    {
     "name": "stdout",
     "output_type": "stream",
     "text": [
      "Nombre de Pixels Vrais Positifs = 0\n",
      "Nombre de Pixels Faux Positifs = 0\n",
      "Nombre de Pixels Faux Negatifs = 10\n",
      "Nombre de Pixels Positifs = 10\n",
      "F1 score = 0.0\n",
      "Accuracy = 0.999697428139183\n",
      "recall = 0.0\n"
     ]
    }
   ],
   "source": [
    "print(\"Nombre de Pixels Vrais Positifs = \" + str(cnt_TP))\n",
    "print(\"Nombre de Pixels Faux Positifs = \" + str(cnt_FP))\n",
    "print(\"Nombre de Pixels Faux Negatifs = \" + str(cnt_FN))\n",
    "print(\"Nombre de Pixels Positifs = \" + str(cnt_Positifs))\n",
    "print(\"F1 score = \" + str(f1_score(y_test, y_predict)))\n",
    "print(\"Accuracy = \" + str(metrics.accuracy_score(y_test, y_predict)))\n",
    "print(\"recall = \" + str(metrics.recall_score(y_test, y_predict)))"
   ]
  },
  {
   "cell_type": "markdown",
   "metadata": {},
   "source": [
    "#### Let's Plot the images "
   ]
  },
  {
   "cell_type": "code",
   "execution_count": 65,
   "metadata": {},
   "outputs": [],
   "source": [
    "y_predict = knn.predict(data_images) ### Prediction sur l'ensemble des données même les données test !!!!"
   ]
  },
  {
   "cell_type": "code",
   "execution_count": 70,
   "metadata": {},
   "outputs": [
    {
     "data": {
      "image/png": "[encoded data removed]",
      "text/plain": [
       "<Figure size 1080x1080 with 2 Axes>"
      ]
     },
     "metadata": {
      "needs_background": "light"
     },
     "output_type": "display_data"
    },
    {
     "data": {
      "image/png": "[encoded data removed]",
      "text/plain": [
       "<Figure size 1080x1080 with 2 Axes>"
      ]
     },
     "metadata": {
      "needs_background": "light"
     },
     "output_type": "display_data"
    },
    {
     "data": {
      "image/png": "[encoded data removed]",
      "text/plain": [
       "<Figure size 1080x1080 with 2 Axes>"
      ]
     },
     "metadata": {
      "needs_background": "light"
     },
     "output_type": "display_data"
    },
    {
     "data": {
      "image/png": "[encoded data removed]",
      "text/plain": [
       "<Figure size 1080x1080 with 2 Axes>"
      ]
     },
     "metadata": {
      "needs_background": "light"
     },
     "output_type": "display_data"
    },
    {
     "data": {
      "image/png": "[encoded data removed]",
      "text/plain": [
       "<Figure size 1080x1080 with 2 Axes>"
      ]
     },
     "metadata": {
      "needs_background": "light"
     },
     "output_type": "display_data"
    },
    {
     "data": {
      "image/png": "[encoded data removed]",
      "text/plain": [
       "<Figure size 1080x1080 with 2 Axes>"
      ]
     },
     "metadata": {
      "needs_background": "light"
     },
     "output_type": "display_data"
    }
   ],
   "source": [
    "i = 0\n",
    "for s in sizes_images:\n",
    "    y_predict_array = np.array(y_predict[i:i+s[0]*s[1]])\n",
    "    y_true = np.array(labels_images[i:i+s[0]*s[1]])\n",
    "    \n",
    "    f = plt.figure(figsize=(15,15))\n",
    "    f.add_subplot(1,2, 1)\n",
    "    plt.title(\"Prediction of Plastic\")\n",
    "    plt.imshow(y_predict_array.reshape(s))\n",
    "    \n",
    "    f.add_subplot(1,2, 2)\n",
    "    \n",
    "    plt.title(\"True Plastic Location\")\n",
    "    plt.imshow(y_true.reshape(s))\n",
    "    plt.show(block=True)\n",
    "\n",
    "    \n",
    "    i+=s[0]*s[1]"
   ]
  },
  {
   "cell_type": "markdown",
   "metadata": {},
   "source": [
    "A noté qu'ici les données sont mélangées : il y a des données de test et des données d'entrainement. J'ai tenu quand même à afficher les données pour avoir un aperçu visuel de l'efficacité de l'algorithme. Efficacité clairement à remettre en question."
   ]
  },
  {
   "cell_type": "markdown",
   "metadata": {},
   "source": [
    "## Naïve Bayes Classifier"
   ]
  },
  {
   "cell_type": "code",
   "execution_count": 71,
   "metadata": {},
   "outputs": [
    {
     "name": "stdout",
     "output_type": "stream",
     "text": [
      "Number of mislabeled points out of a total 33050 points : 10\n"
     ]
    }
   ],
   "source": [
    "from sklearn.naive_bayes import GaussianNB, MultinomialNB, ComplementNB, BernoulliNB, CategoricalNB \n",
    "gnb = MultinomialNB()\n",
    "y_pred = gnb.fit(X_train, y_train).predict(X_test)\n",
    "print(\"Number of mislabeled points out of a total %d points : %d\" % (len(X_test), (y_test != y_pred).sum()))"
   ]
  },
  {
   "cell_type": "code",
   "execution_count": 72,
   "metadata": {},
   "outputs": [],
   "source": [
    "cnt_TP = 0\n",
    "cnt_FP = 0\n",
    "cnt_FN = 0\n",
    "cnt_Positifs = 0\n",
    "for i in range(len(y_pred)) :\n",
    "    if y_pred[i] == 1 :\n",
    "        if y_test[i] == 1 :\n",
    "            cnt_TP+=1\n",
    "        else :\n",
    "            cnt_FP+= 1\n",
    "    \n",
    "    if y_test[i] == 1 :\n",
    "        cnt_Positifs+=1\n",
    "        if y_pred[i] != 1 :\n",
    "            cnt_FN+=1"
   ]
  },
  {
   "cell_type": "code",
   "execution_count": 73,
   "metadata": {},
   "outputs": [
    {
     "name": "stdout",
     "output_type": "stream",
     "text": [
      "Nombre de Pixels Vrais Positifs = 0\n",
      "Nombre de Pixels Faux Positifs = 0\n",
      "Nombre de Pixels Faux Negatifs = 10\n",
      "Nombre de Pixels Positifs = 10\n"
     ]
    }
   ],
   "source": [
    "print(\"Nombre de Pixels Vrais Positifs = \" + str(cnt_TP))\n",
    "print(\"Nombre de Pixels Faux Positifs = \" + str(cnt_FP))\n",
    "print(\"Nombre de Pixels Faux Negatifs = \" + str(cnt_FN))\n",
    "print(\"Nombre de Pixels Positifs = \" + str(cnt_Positifs))"
   ]
  },
  {
   "cell_type": "code",
   "execution_count": 74,
   "metadata": {},
   "outputs": [
    {
     "data": {
      "text/plain": [
       "array([[33040,     0],\n",
       "       [   10,     0]], dtype=int64)"
      ]
     },
     "execution_count": 74,
     "metadata": {},
     "output_type": "execute_result"
    }
   ],
   "source": [
    "from sklearn.metrics import confusion_matrix\n",
    "confusion_matrix(y_test, y_pred)"
   ]
  },
  {
   "cell_type": "code",
   "execution_count": 75,
   "metadata": {
    "scrolled": true
   },
   "outputs": [
    {
     "data": {
      "image/png": "[encoded data removed]",
      "text/plain": [
       "<Figure size 432x288 with 2 Axes>"
      ]
     },
     "metadata": {
      "needs_background": "light"
     },
     "output_type": "display_data"
    },
    {
     "data": {
      "text/plain": [
       "<Figure size 2160x1440 with 0 Axes>"
      ]
     },
     "metadata": {},
     "output_type": "display_data"
    }
   ],
   "source": [
    "import matplotlib.pyplot as plt  \n",
    "from sklearn.datasets import make_classification\n",
    "from sklearn.metrics import plot_confusion_matrix\n",
    "plot_confusion_matrix(gnb, X_test, y_test, cmap=plt.cm.Blues,)  \n",
    "plt.figure(figsize=(30,20))\n",
    "plt.show()  "
   ]
  },
  {
   "cell_type": "markdown",
   "metadata": {},
   "source": [
    "Commme la montre ici la matrice de confusion, l'agorithme est extraiement mauvais. "
   ]
  },
  {
   "cell_type": "markdown",
   "metadata": {},
   "source": [
    "#### Conclusion"
   ]
  },
  {
   "cell_type": "markdown",
   "metadata": {},
   "source": [
    "Ces techniques ne sont pas à abandonnées. Elles ont montré leur efficacité dans plusieurs écrits que l'on a pu trouver, leur point commun : ils avaient accès à un nombre de données plus importants. En effet, la trop faible proportion de plastique dans les images ne permet pas aux algorithmes d'établir des critères discriminants pour classer les pixels.  "
   ]
  },
  {
   "cell_type": "markdown",
   "metadata": {},
   "source": [
    "Il s'agira à l'avenir d'essayer d'acquérir plus de données pour pouvoir faire de l'apprentissage supervisé dans de meilleure condition. "
   ]
  }
 ],
 "metadata": {
  "kernelspec": {
   "display_name": "Python 3",
   "language": "python",
   "name": "python3"
  },
  "language_info": {
   "codemirror_mode": {
    "name": "ipython",
    "version": 3
   },
   "file_extension": ".py",
   "mimetype": "text/x-python",
   "name": "python",
   "nbconvert_exporter": "python",
   "pygments_lexer": "ipython3",
   "version": "3.8.5"
  },
  "latex_envs": {
   "LaTeX_envs_menu_present": true,
   "autoclose": false,
   "autocomplete": true,
   "bibliofile": "biblio.bib",
   "cite_by": "apalike",
   "current_citInitial": 1,
   "eqLabelWithNumbers": true,
   "eqNumInitial": 1,
   "hotkeys": {
    "equation": "Ctrl-E",
    "itemize": "Ctrl-I"
   },
   "labels_anchors": false,
   "latex_user_defs": false,
   "report_style_numbering": false,
   "user_envs_cfg": false
  }
 },
 "nbformat": 4,
 "nbformat_minor": 4
}
