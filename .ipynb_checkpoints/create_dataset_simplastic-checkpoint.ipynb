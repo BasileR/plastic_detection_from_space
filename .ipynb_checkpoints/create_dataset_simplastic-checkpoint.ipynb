{
 "cells": [
  {
   "cell_type": "markdown",
   "metadata": {},
   "source": [
    "# Creation of a dataset with modified pixels so as to simulate the presence of plastic litter\n",
    "\n",
    "Thanks to state of the art researchers and the begining of our work, we manage to get plastic spectral signature. With this spectral signature, we can easily simulate the presence of plastic pixels in another image, free from plastic. The goal of this notebook is to create such a dataset, centered on the Greek island Mytilene (where the researchers deployed plastic targets) so as to keep the same 'envrionnement' to begin.\n",
    "\n",
    "The idea of this dataset is to generate labelled data. We will be able to train a model on this dataset, and test it on images where the presence of plastic targets is verified (for exemple, images of the plastic targets of the plastic litter project)."
   ]
  },
  {
   "cell_type": "markdown",
   "metadata": {},
   "source": [
    "The dataset will be based on a sentinel 2 image (called tile) centered on Mytilene. The idea is to create patches from this tile, with a shape 60x70xN where N is the number of spectral bands. Each patch will be labelled with a mask : 0 where no plastic, and 1 for plastic. \n",
    "\n",
    "The dataset will have the foloowing structure : \n",
    "\n",
    "data/simplastic/\n",
    "\n",
    "            - img\n",
    "                - img1.tif\n",
    "                - img2.tif\n",
    "                - ...\n",
    "            - label\n",
    "                - label1.tif\n",
    "                - label2.tif\n",
    "                - ...\n",
    "                \n",
    "It will be uploaded on google drive, make sure you put it on the right folder after downloading it."
   ]
  },
  {
   "cell_type": "markdown",
   "metadata": {},
   "source": [
    "## Summary\n",
    "\n",
    "- #### Part 1 : Get the tiles\n",
    "Get raw data\n",
    "\n",
    "- #### Part 2 : Separate water from land\n",
    "Kmeans\n",
    "\n",
    "- #### Part 3 : Simulate plastic\n",
    "Modify some pixels to simulate plastic thank to its spectral signature\n",
    "\n",
    "- #### Part 4 : Create Label\n",
    "\n",
    "\n"
   ]
  },
  {
   "cell_type": "code",
   "execution_count": 118,
   "metadata": {},
   "outputs": [],
   "source": [
    "## import libraries and utils\n",
    "\n",
    "import utils\n",
    "import tifffile\n",
    "import cv2\n",
    "import matplotlib.pyplot as plt\n",
    "import numpy as np \n",
    "import os\n",
    "from tqdm import tqdm\n",
    "from PIL import Image\n",
    "import spectral\n",
    "import sys\n",
    "\n",
    "from sklearn.cluster import KMeans\n",
    "from sklearn import metrics \n",
    "from scipy.spatial.distance import cdist "
   ]
  },
  {
   "cell_type": "markdown",
   "metadata": {},
   "source": [
    "### Part 1 : get the tiles\n",
    "\n",
    "As we take images from EO browser, we have several images to process. M1 is the image where plastic targets were deployed. M2 is an image of the same island, but at a different place."
   ]
  },
  {
   "cell_type": "code",
   "execution_count": 120,
   "metadata": {
    "scrolled": true
   },
   "outputs": [],
   "source": [
    "## Load the tile\n",
    "## we will not use utils get band as having a array is better here \n",
    "\n",
    "def get_array(folder):\n",
    "    \n",
    "    # we want all the bands to create the dataset\n",
    "    L = ['B01','B02','B03','B04','B05','B06','B07','B08','B8A','B09','B11','B12']\n",
    "\n",
    "    path = 'data/'+ folder\n",
    "    inside_folder = os.listdir(path)\n",
    "\n",
    "    # store the bands\n",
    "    band_array = np.zeros((600,1400,len(L)))\n",
    "\n",
    "    ## load wanted spectral bands\n",
    "    i = 0\n",
    "    for raw_band in inside_folder:\n",
    "        for desired_band in L:\n",
    "            if desired_band in raw_band:\n",
    "                img = tifffile.imread(os.path.join(path,raw_band))\n",
    "                # crop the image not to have problems when creating patchs\n",
    "                band_array[:,:,i] = img[:600,:1400]\n",
    "                i+=1\n",
    "    return band_array\n"
   ]
  },
  {
   "cell_type": "code",
   "execution_count": 121,
   "metadata": {},
   "outputs": [],
   "source": [
    "band_arrayM1 = get_array('Mytilene/M1')\n",
    "band_arrayM2 = get_array('Mytilene/M2')"
   ]
  },
  {
   "cell_type": "markdown",
   "metadata": {},
   "source": [
    "## Part 2 : Separate water from land"
   ]
  },
  {
   "cell_type": "code",
   "execution_count": 134,
   "metadata": {},
   "outputs": [],
   "source": [
    "def kmeans(arrays, nb_clust):\n",
    "    arrays_flat=np.array([arrays[:,:,i].flatten() for i in range(arrays.shape[2])])\n",
    "    X=(np.transpose(arrays_flat))\n",
    "    kmeans = KMeans(n_clusters=nb_clust,  init='k-means++', n_init=10, max_iter=1000) # tester k-means méthod max?\n",
    "    kmeans.fit(X)\n",
    "    labels=kmeans.labels_\n",
    "    plastic_index = 0\n",
    "    nb = 99999\n",
    "    nb_2 = 0\n",
    "    img_labels = labels.reshape(600,1400)\n",
    "    plt.figure()\n",
    "    plt.imshow(img_labels)\n",
    "    \n",
    "    return img_labels"
   ]
  },
  {
   "cell_type": "code",
   "execution_count": 135,
   "metadata": {
    "scrolled": true
   },
   "outputs": [
    {
     "data": {
      "image/png": "[encoded data removed]",
      "text/plain": [
       "<Figure size 432x288 with 1 Axes>"
      ]
     },
     "metadata": {
      "needs_background": "light"
     },
     "output_type": "display_data"
    },
    {
     "data": {
      "image/png": "[encoded data removed]",
      "text/plain": [
       "<Figure size 432x288 with 1 Axes>"
      ]
     },
     "metadata": {
      "needs_background": "light"
     },
     "output_type": "display_data"
    }
   ],
   "source": [
    "img_labelsM1 = kmeans(band_arrayM1,2)\n",
    "img_labelsM2 = kmeans(band_arrayM2,2)"
   ]
  },
  {
   "cell_type": "markdown",
   "metadata": {},
   "source": [
    "## Part 3 : simulate plastic"
   ]
  },
  {
   "cell_type": "code",
   "execution_count": null,
   "metadata": {},
   "outputs": [],
   "source": []
  },
  {
   "cell_type": "code",
   "execution_count": null,
   "metadata": {},
   "outputs": [],
   "source": []
  },
  {
   "cell_type": "code",
   "execution_count": null,
   "metadata": {},
   "outputs": [],
   "source": []
  },
  {
   "cell_type": "code",
   "execution_count": null,
   "metadata": {},
   "outputs": [],
   "source": []
  },
  {
   "cell_type": "code",
   "execution_count": 129,
   "metadata": {},
   "outputs": [],
   "source": [
    "## create folders to store patchs\n",
    "\n",
    "os.mkdir('data/Mytilene/store_smallImages')\n",
    "os.mkdir('data/Mytilene/store_smallImages/M1')\n",
    "os.mkdir('data/Mytilene/store_smallImages/M2')"
   ]
  },
  {
   "cell_type": "code",
   "execution_count": 130,
   "metadata": {},
   "outputs": [],
   "source": [
    "patch_size = (60,70) \n",
    "margin0 = int(patch_size[0]/2)\n",
    "margin1 = int(patch_size[1]/2)\n",
    "\n",
    "def create_patchs(band_array,target_folder):\n",
    "    \n",
    "    nb = 0 \n",
    "    for r in range(margin0,600,patch_size[0]):\n",
    "        for c in range(margin1,1400,patch_size[1]):\n",
    "            img = band_array[r - margin0:r + margin0 , c - margin1:c + margin1,:]\n",
    "            tifffile.imsave('data/Mytilene/store_smallImages/{}/img_{}_{}.tif'.format(target_folder,target_folder,str(nb)),img)\n",
    "            nb+=1\n"
   ]
  },
  {
   "cell_type": "code",
   "execution_count": 131,
   "metadata": {},
   "outputs": [],
   "source": [
    "create_patchs(band_arrayM1,'M1')\n",
    "create_patchs(band_arrayM2,'M2')"
   ]
  },
  {
   "cell_type": "code",
   "execution_count": null,
   "metadata": {},
   "outputs": [],
   "source": []
  }
 ],
 "metadata": {
  "kernelspec": {
   "display_name": "Python 3",
   "language": "python",
   "name": "python3"
  }
 },
 "nbformat": 4,
 "nbformat_minor": 4
}
