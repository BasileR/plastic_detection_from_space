{
 "cells": [
  {
   "cell_type": "markdown",
   "metadata": {},
   "source": [
    "## Import labels"
   ]
  },
  {
   "cell_type": "code",
   "execution_count": 5,
   "metadata": {},
   "outputs": [],
   "source": [
    "import numpy as np\n",
    "import spectral\n",
    "from PIL import Image\n",
    "import os\n",
    "import matplotlib.pyplot as plt\n",
    "import utils\n",
    "import tifffile \n",
    "from sklearn.cluster import KMeans\n",
    "from sklearn import metrics \n",
    "from scipy.spatial.distance import cdist \n",
    "from os import listdir"
   ]
  },
  {
   "cell_type": "code",
   "execution_count": 7,
   "metadata": {},
   "outputs": [
    {
     "name": "stdout",
     "output_type": "stream",
     "text": [
      "['2019_04_18_M', '2019_05_03_M', '2019_05_08_M', '2019_05_18_M', '2019_05_28_M', '2019_06_07_M', 'label']\n"
     ]
    }
   ],
   "source": [
    "data_dir = './data/'\n",
    "img_name = listdir(data_dir) \n",
    "print(img_name)"
   ]
  },
  {
   "cell_type": "code",
   "execution_count": 131,
   "metadata": {},
   "outputs": [],
   "source": [
    "bands = ['B01','B02','B03','B04','B05','B06','B07','B08','B8A','B09','B11','B12']\n",
    "\n",
    "# transorfm the dict into an array\n",
    "def from_dict_to_array(img_bands):\n",
    "    band_arrays = []\n",
    "    for e in bands:\n",
    "        band_arrays.append(img_bands[e])\n",
    "    return band_arrays\n",
    "\n",
    "def get_dataset(data_dir, bands):\n",
    "    labels = []\n",
    "    data = []\n",
    "    img_name = listdir(data_dir) \n",
    "    print(img_name)\n",
    "    for e in img_name : \n",
    "        if e=='label':\n",
    "            label_dir = data_dir + e + '/'\n",
    "            label_list = listdir(label_dir)\n",
    "            for u in label_list:\n",
    "                img_lab_path = label_dir + u\n",
    "                \n",
    "                img_lab = tifffile.imread(img_lab_path)\n",
    "                m,n,_ = img_lab.shape\n",
    "                for i in range(m):\n",
    "                    for j in range(n):\n",
    "                        \n",
    "                print(img_lab[:,:][0].shape)\n",
    "                labels.append(img_lab[:][:])\n",
    "        else : \n",
    "            img_bands = utils.get_band(bands,e)\n",
    "            band_arrays = from_dict_to_array(img_bands)\n",
    "            array_bs = np.array([k.flatten() for k in band_arrays])\n",
    "            data.append(array_bs)\n",
    "    return data, labels\n",
    "            "
   ]
  },
  {
   "cell_type": "code",
   "execution_count": 132,
   "metadata": {},
   "outputs": [
    {
     "name": "stdout",
     "output_type": "stream",
     "text": [
      "(90, 183, 3)\n",
      "(90, 183)\n"
     ]
    }
   ],
   "source": [
    "## get images' directory\n",
    "\n",
    "bands = ['B01','B02','B03','B04','B05','B06','B07','B08','B8A','B09','B11','B12']\n",
    "\n",
    "\n",
    "label_dir = './data/label/'\n",
    "end = '_label.tif'\n",
    "# img1 = '2019_04_18_M'\n",
    "img1 = '2019_05_03_M'\n",
    "img1_lab_path = label_dir + img1 + end\n",
    "img1_lab = tifffile.imread(img1_lab_path)\n",
    "print(img1_lab.shape)\n",
    "img_bands = utils.get_band(bands,img1)\n",
    "band_arrays = from_dict_to_array(img_bands)\n",
    "print(band_arrays[0].shape)"
   ]
  },
  {
   "cell_type": "code",
   "execution_count": 133,
   "metadata": {},
   "outputs": [
    {
     "name": "stdout",
     "output_type": "stream",
     "text": [
      "['2019_04_18_M', '2019_05_03_M', '2019_05_08_M', '2019_05_18_M', '2019_05_28_M', '2019_06_07_M', 'label']\n",
      "(183,)\n",
      "(183, 3)\n",
      "(183, 3)\n",
      "(183, 3)\n",
      "(183, 3)\n",
      "(183, 3)\n"
     ]
    }
   ],
   "source": [
    "bands = ['B01','B02','B03','B04','B05','B06','B07','B08','B8A','B09','B11','B12']\n",
    "data,labels = get_dataset(data_dir, bands)\n",
    "# data_arr = np.array(data)\n",
    "# print(data[1].shape)"
   ]
  },
  {
   "cell_type": "code",
   "execution_count": 88,
   "metadata": {},
   "outputs": [
    {
     "name": "stdout",
     "output_type": "stream",
     "text": [
      "(84, 183, 3)\n"
     ]
    },
    {
     "ename": "ValueError",
     "evalue": "too many values to unpack (expected 2)",
     "output_type": "error",
     "traceback": [
      "\u001b[1;31m---------------------------------------------------------------------------\u001b[0m",
      "\u001b[1;31mValueError\u001b[0m                                Traceback (most recent call last)",
      "\u001b[1;32m<ipython-input-88-5ef248d53874>\u001b[0m in \u001b[0;36m<module>\u001b[1;34m\u001b[0m\n\u001b[0;32m      1\u001b[0m \u001b[0mprint\u001b[0m\u001b[1;33m(\u001b[0m\u001b[0mlabels\u001b[0m\u001b[1;33m[\u001b[0m\u001b[1;36m4\u001b[0m\u001b[1;33m]\u001b[0m\u001b[1;33m.\u001b[0m\u001b[0mshape\u001b[0m\u001b[1;33m)\u001b[0m\u001b[1;33m\u001b[0m\u001b[1;33m\u001b[0m\u001b[0m\n\u001b[1;32m----> 2\u001b[1;33m \u001b[0mm\u001b[0m\u001b[1;33m,\u001b[0m\u001b[0mn\u001b[0m\u001b[1;33m=\u001b[0m \u001b[0mlabels\u001b[0m\u001b[1;33m[\u001b[0m\u001b[1;36m1\u001b[0m\u001b[1;33m]\u001b[0m\u001b[1;33m.\u001b[0m\u001b[0mshape\u001b[0m\u001b[1;33m\u001b[0m\u001b[1;33m\u001b[0m\u001b[0m\n\u001b[0m\u001b[0;32m      3\u001b[0m \u001b[1;31m# print(labels)\u001b[0m\u001b[1;33m\u001b[0m\u001b[1;33m\u001b[0m\u001b[1;33m\u001b[0m\u001b[0m\n\u001b[0;32m      4\u001b[0m \u001b[0mplt\u001b[0m\u001b[1;33m.\u001b[0m\u001b[0mimshow\u001b[0m\u001b[1;33m(\u001b[0m\u001b[0mdata\u001b[0m\u001b[1;33m[\u001b[0m\u001b[1;36m1\u001b[0m\u001b[1;33m]\u001b[0m\u001b[1;33m[\u001b[0m\u001b[1;36m1\u001b[0m\u001b[1;33m]\u001b[0m\u001b[1;33m.\u001b[0m\u001b[0mreshape\u001b[0m\u001b[1;33m(\u001b[0m\u001b[0mm\u001b[0m\u001b[1;33m,\u001b[0m\u001b[0mn\u001b[0m\u001b[1;33m)\u001b[0m\u001b[1;33m)\u001b[0m\u001b[1;33m\u001b[0m\u001b[1;33m\u001b[0m\u001b[0m\n",
      "\u001b[1;31mValueError\u001b[0m: too many values to unpack (expected 2)"
     ]
    }
   ],
   "source": [
    "print(labels[4].shape)\n",
    "m,n= labels[1].shape\n",
    "# print(labels)\n",
    "plt.imshow(data[1][1].reshape(m,n))"
   ]
  },
  {
   "cell_type": "code",
   "execution_count": null,
   "metadata": {},
   "outputs": [],
   "source": []
  }
 ],
 "metadata": {
  "kernelspec": {
   "display_name": "Python 3",
   "language": "python",
   "name": "python3"
  },
  "language_info": {
   "codemirror_mode": {
    "name": "ipython",
    "version": 3
   },
   "file_extension": ".py",
   "mimetype": "text/x-python",
   "name": "python",
   "nbconvert_exporter": "python",
   "pygments_lexer": "ipython3",
   "version": "3.7.9"
  }
 },
 "nbformat": 4,
 "nbformat_minor": 4
}
