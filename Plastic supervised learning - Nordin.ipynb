{
 "cells": [
  {
   "cell_type": "markdown",
   "metadata": {},
   "source": [
    "## Import labels"
   ]
  },
  {
   "cell_type": "code",
   "execution_count": 3,
   "metadata": {},
   "outputs": [],
   "source": [
    "import numpy as np\n",
    "import spectral\n",
    "from PIL import Image\n",
    "import os\n",
    "import matplotlib.pyplot as plt\n",
    "import utils\n",
    "import tifffile\n",
    "from sklearn.cluster import KMeans\n",
    "from sklearn import metrics \n",
    "from scipy.spatial.distance import cdist\n",
    "from os import listdir"
   ]
  },
  {
   "cell_type": "code",
   "execution_count": 4,
   "metadata": {},
   "outputs": [
    {
     "name": "stdout",
     "output_type": "stream",
     "text": [
      "['2019_04_18_M', '2019_05_03_M', '2019_05_08_M', '2019_05_18_M', '2019_05_28_M', '2019_06_07_M', 'label']\n"
     ]
    }
   ],
   "source": [
    "data_dir = './data/'\n",
    "img_name = listdir(data_dir) \n",
    "print(img_name)"
   ]
  },
  {
   "cell_type": "code",
   "execution_count": 50,
   "metadata": {},
   "outputs": [],
   "source": [
    "bands = ['B01','B02','B03','B04','B05','B06','B07','B08','B8A','B09','B11','B12']\n",
    "\n",
    "# transorfm the dict into an array\n",
    "def from_dict_to_array(img_bands):\n",
    "    band_arrays = []\n",
    "    for e in bands:\n",
    "        band_arrays.append(img_bands[e])\n",
    "    return band_arrays\n",
    "\n",
    "def get_dataset(data_dir, bands):\n",
    "    labels = []\n",
    "    data = []\n",
    "    img_name = listdir(data_dir)\n",
    "    sizes= []\n",
    "    for e in img_name : \n",
    "        if e!='label':\n",
    "            data_im, label_im = utils.get_batch(bands, e, all = False)\n",
    "            sizes.append(data_im.shape[0:2])\n",
    "            flatten_labels = label_im.flatten()\n",
    "            flatten_data = [data_im[:,:,i].flatten() for i in range(len(bands))]\n",
    "            a_concat = np.zeros((flatten_data[0].shape[0],len(bands)))\n",
    "            for i in range(0, len(flatten_data)):\n",
    "                a_concat[:,i] = flatten_data[i]\n",
    "            for k in range(flatten_data[0].shape[0]):\n",
    "                data.append(a_concat[k])\n",
    "            for e in flatten_labels:\n",
    "                labels.append(e)\n",
    "\n",
    "    return data, labels, sizes\n",
    "            "
   ]
  },
  {
   "cell_type": "code",
   "execution_count": null,
   "metadata": {},
   "outputs": [],
   "source": []
  },
  {
   "cell_type": "code",
   "execution_count": 47,
   "metadata": {},
   "outputs": [
    {
     "name": "stdout",
     "output_type": "stream",
     "text": [
      "(90, 183, 3)\n",
      "(90, 183)\n"
     ]
    }
   ],
   "source": [
    "## get images' directory\n",
    "\n",
    "bands = ['B01','B02','B03','B04','B05','B06','B07','B08','B8A','B09','B11','B12']\n",
    "\n",
    "\n",
    "label_dir = './data/label/'\n",
    "end = '_label.tif'\n",
    "# img1 = '2019_04_18_M'\n",
    "img1 = '2019_05_03_M'\n",
    "img1_lab_path = label_dir + img1 + end\n",
    "img1_lab = tifffile.imread(img1_lab_path)\n",
    "print(img1_lab.shape)\n",
    "img_bands = utils.get_band(bands,img1)\n",
    "band_arrays = from_dict_to_array(img_bands)\n",
    "print(band_arrays[0].shape)"
   ]
  },
  {
   "cell_type": "code",
   "execution_count": 51,
   "metadata": {},
   "outputs": [],
   "source": [
    "bands = ['B01','B02','B03','B04','B05','B06','B07','B08','B8A','B09','B11','B12']\n",
    "data, labels, sizes = get_dataset(data_dir, bands)"
   ]
  },
  {
   "cell_type": "code",
   "execution_count": 17,
   "metadata": {},
   "outputs": [],
   "source": [
    "#print(len(data))\n",
    "#print(len(labels))\n",
    "#m,n= labels[1].shape\n",
    "#plt.imshow(data[1][:,:,1])"
   ]
  },
  {
   "cell_type": "markdown",
   "metadata": {},
   "source": [
    "## KNN Classifier"
   ]
  },
  {
   "cell_type": "markdown",
   "metadata": {},
   "source": [
    "#### Create Training and Testing datasets"
   ]
  },
  {
   "cell_type": "code",
   "execution_count": 20,
   "metadata": {},
   "outputs": [],
   "source": [
    "from sklearn.model_selection import train_test_split\n",
    "## We split the dataset into a training and testing set with a ration of 30%\n",
    "\n",
    "X_train,X_test,y_train,y_test = train_test_split(data,labels,test_size=0.3,random_state=42, stratify=labels)"
   ]
  },
  {
   "cell_type": "code",
   "execution_count": 36,
   "metadata": {},
   "outputs": [
    {
     "name": "stdout",
     "output_type": "stream",
     "text": [
      " Taille Training Set = 66099\n",
      " Taille Testing Set = 28329\n"
     ]
    }
   ],
   "source": [
    "print(\" Taille Training Set = \" + str(len(y_train))+ \"\\n Taille Testing Set = \" + str(len(y_test)))"
   ]
  },
  {
   "cell_type": "markdown",
   "metadata": {},
   "source": [
    "#### Finding the best K "
   ]
  },
  {
   "cell_type": "code",
   "execution_count": 37,
   "metadata": {},
   "outputs": [],
   "source": [
    "#import KNeighborsClassifier\n",
    "from sklearn.neighbors import KNeighborsClassifier\n",
    "\n",
    "#Setup arrays to store training and test accuracies\n",
    "neighbors = np.arange(1,9)\n",
    "train_accuracy =np.empty(len(neighbors))\n",
    "test_accuracy = np.empty(len(neighbors))\n",
    "\n",
    "for i,k in enumerate(neighbors):\n",
    "    #Setup a knn classifier with k neighbors\n",
    "    knn = KNeighborsClassifier(n_neighbors=k)\n",
    "    \n",
    "    #Fit the model\n",
    "    knn.fit(X_train, y_train)\n",
    "    \n",
    "    #Compute accuracy on the training set\n",
    "    train_accuracy[i] = knn.score(X_train, y_train)\n",
    "    \n",
    "    #Compute accuracy on the test set\n",
    "    test_accuracy[i] = knn.score(X_test, y_test) "
   ]
  },
  {
   "cell_type": "markdown",
   "metadata": {},
   "source": [
    "#### Plot the result"
   ]
  },
  {
   "cell_type": "code",
   "execution_count": 38,
   "metadata": {},
   "outputs": [
    {
     "data": {
      "image/png": "[encoded data removed]",
      "text/plain": [
       "<Figure size 432x288 with 1 Axes>"
      ]
     },
     "metadata": {
      "needs_background": "light"
     },
     "output_type": "display_data"
    }
   ],
   "source": [
    "#Generate plot\n",
    "plt.title('k-NN Varying number of neighbors')\n",
    "plt.plot(neighbors, test_accuracy, label='Testing Accuracy')\n",
    "plt.plot(neighbors, train_accuracy, label='Training accuracy')\n",
    "plt.legend()\n",
    "plt.xlabel('Number of neighbors')\n",
    "plt.ylabel('Accuracy')\n",
    "plt.show()"
   ]
  },
  {
   "cell_type": "markdown",
   "metadata": {},
   "source": [
    "#### Create the best Classifier using the best k"
   ]
  },
  {
   "cell_type": "code",
   "execution_count": 40,
   "metadata": {},
   "outputs": [
    {
     "name": "stdout",
     "output_type": "stream",
     "text": [
      "The best accuracy is = 0.99\n"
     ]
    }
   ],
   "source": [
    "#Setup a knn classifier with k neighbors\n",
    "best_k= 3\n",
    "knn = KNeighborsClassifier(n_neighbors=3)\n",
    "\n",
    "#Fit the model\n",
    "knn.fit(X_train,y_train)\n",
    "\n",
    "best_acc = int(knn.score(X_test,y_test) *100) /100\n",
    "\n",
    "print(\"The best accuracy is = \" + str(best_acc)) ## Les resulats sont à prendre avec des pincettes\n"
   ]
  },
  {
   "cell_type": "markdown",
   "metadata": {},
   "source": [
    "Meme si les resultats semblent très bons ce n'est pas forcément le cas. En effet, la proportion de  pixels qui ne sont pas du plastique est bien bien plus faible que la proportion de plastique ce qui fausse grandement les resultats. "
   ]
  },
  {
   "cell_type": "markdown",
   "metadata": {},
   "source": [
    "#### Let's Plot the images "
   ]
  },
  {
   "cell_type": "code",
   "execution_count": 61,
   "metadata": {},
   "outputs": [],
   "source": [
    "y_predict = knn.predict(data)"
   ]
  },
  {
   "cell_type": "code",
   "execution_count": 77,
   "metadata": {},
   "outputs": [],
   "source": [
    "cnt_TP = 0\n",
    "cnt_FP = 0\n",
    "cnt_FN = 0\n",
    "cnt_Positifs = 0\n",
    "for i in range(len(y_predict)) :\n",
    "    if y_predict[i] == 1 :\n",
    "        if labels[i] == 1 :\n",
    "            cnt_TP+=1\n",
    "        else :\n",
    "            cnt_FP+= 1\n",
    "    if labels[i] == 1 :\n",
    "        cnt_Positifs+=1\n",
    "        if y_predict[i] != 1 :\n",
    "            cnt_FN+=1"
   ]
  },
  {
   "cell_type": "code",
   "execution_count": 113,
   "metadata": {},
   "outputs": [
    {
     "name": "stdout",
     "output_type": "stream",
     "text": [
      "Nombre de Pixels Vrais Positifs = 5\n",
      "Nombre de Pixels Faux Positifs = 1\n",
      "Nombre de Pixels Faux Negatifs = 23\n",
      "Nombre de Pixels Positifs = 28\n"
     ]
    }
   ],
   "source": [
    "print(\"Nombre de Pixels Vrais Positifs = \" + str(cnt_TP))\n",
    "print(\"Nombre de Pixels Faux Positifs = \" + str(cnt_FP))\n",
    "print(\"Nombre de Pixels Faux Negatifs = \" + str(cnt_FN))\n",
    "print(\"Nombre de Pixels Positifs = \" + str(cnt_Positifs))"
   ]
  },
  {
   "cell_type": "markdown",
   "metadata": {},
   "source": [
    "On remarque ici qu'il y 28 pixels de plastique et que seulement 5 sont identifiés par le classifer ... "
   ]
  },
  {
   "cell_type": "code",
   "execution_count": 119,
   "metadata": {},
   "outputs": [
    {
     "data": {
      "image/png": "[encoded data removed]",
      "text/plain": [
       "<Figure size 1080x1080 with 2 Axes>"
      ]
     },
     "metadata": {
      "needs_background": "light"
     },
     "output_type": "display_data"
    },
    {
     "data": {
      "image/png": "[encoded data removed]",
      "text/plain": [
       "<Figure size 1080x1080 with 2 Axes>"
      ]
     },
     "metadata": {
      "needs_background": "light"
     },
     "output_type": "display_data"
    },
    {
     "data": {
      "image/png": "[encoded data removed]",
      "text/plain": [
       "<Figure size 1080x1080 with 2 Axes>"
      ]
     },
     "metadata": {
      "needs_background": "light"
     },
     "output_type": "display_data"
    },
    {
     "data": {
      "image/png": "[encoded data removed]",
      "text/plain": [
       "<Figure size 1080x1080 with 2 Axes>"
      ]
     },
     "metadata": {
      "needs_background": "light"
     },
     "output_type": "display_data"
    },
    {
     "data": {
      "image/png": "[encoded data removed]",
      "text/plain": [
       "<Figure size 1080x1080 with 2 Axes>"
      ]
     },
     "metadata": {
      "needs_background": "light"
     },
     "output_type": "display_data"
    },
    {
     "data": {
      "image/png": "[encoded data removed]",
      "text/plain": [
       "<Figure size 1080x1080 with 2 Axes>"
      ]
     },
     "metadata": {
      "needs_background": "light"
     },
     "output_type": "display_data"
    }
   ],
   "source": [
    "i = 0\n",
    "for s in sizes :\n",
    "    y_predict_array = np.array(y_predict[i:i+s[0]*s[1]])\n",
    "    y_true = np.array(labels[i:i+s[0]*s[1]])\n",
    "    \n",
    "    f = plt.figure(figsize=(15,15))\n",
    "    f.add_subplot(1,2, 1)\n",
    "    plt.title(\"Prediction of Plastic\")\n",
    "    plt.imshow(y_predict_array.reshape(s)[20:60,100:150])\n",
    "    \n",
    "    f.add_subplot(1,2, 2)\n",
    "    plt.title(\"True Plastic Location\")\n",
    "    plt.imshow(y_true.reshape(s)[20:60,100:150])\n",
    "    plt.show(block=True)\n",
    "\n",
    "    \n",
    "    i+=s[0]*s[1]"
   ]
  },
  {
   "cell_type": "code",
   "execution_count": null,
   "metadata": {},
   "outputs": [],
   "source": []
  }
 ],
 "metadata": {
  "kernelspec": {
   "display_name": "Python 3",
   "language": "python",
   "name": "python3"
  },
  "language_info": {
   "codemirror_mode": {
    "name": "ipython",
    "version": 3
   },
   "file_extension": ".py",
   "mimetype": "text/x-python",
   "name": "python",
   "nbconvert_exporter": "python",
   "pygments_lexer": "ipython3",
   "version": "3.8.5"
  },
  "latex_envs": {
   "LaTeX_envs_menu_present": true,
   "autoclose": false,
   "autocomplete": true,
   "bibliofile": "biblio.bib",
   "cite_by": "apalike",
   "current_citInitial": 1,
   "eqLabelWithNumbers": true,
   "eqNumInitial": 1,
   "hotkeys": {
    "equation": "Ctrl-E",
    "itemize": "Ctrl-I"
   },
   "labels_anchors": false,
   "latex_user_defs": false,
   "report_style_numbering": false,
   "user_envs_cfg": false
  }
 },
 "nbformat": 4,
 "nbformat_minor": 4
}
