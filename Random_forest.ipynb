{
 "cells": [
  {
   "cell_type": "code",
   "execution_count": 1,
   "metadata": {},
   "outputs": [],
   "source": [
    "from sklearn.ensemble import RandomForestClassifier\n",
    "import sklearn\n",
    "import os \n",
    "import tifffile\n",
    "from sklearn.feature_extraction import image\n",
    "import numpy as np\n",
    "import matplotlib.pyplot as plt\n",
    "import utils\n",
    "from sklearn.cluster import KMeans\n",
    "from scipy.spatial import distance\n",
    "import os\n",
    "import sys\n",
    "import sknetwork as skn\n",
    "from sklearn.cluster import SpectralClustering"
   ]
  },
  {
   "cell_type": "code",
   "execution_count": 101,
   "metadata": {},
   "outputs": [],
   "source": [
    "## Load the tile\n",
    "## we will not use utils get band as having a array is better here \n",
    "\n",
    "def get_array(folder):\n",
    "    # we want all the bands to create the dataset\n",
    "    L = ['B01','B02','B03','B04','B05','B06','B07','B08','B8A','B09','B11','B12']\n",
    "    path = 'data/'+ folder\n",
    "    inside_folder = os.listdir(path)\n",
    "\n",
    "    # store the bands\n",
    "    #band_array = np.zeros((600,1400,len(L)))\n",
    "    band_array = np.zeros((84,183-125,len(L)))\n",
    "    ## load wanted spectral bands\n",
    "    i = 0\n",
    "    for raw_band in inside_folder:\n",
    "        for desired_band in L:\n",
    "            if desired_band in raw_band:\n",
    "                img = tifffile.imread(os.path.join(path,raw_band))\n",
    "                # crop the image not to have problems when creating patchs\n",
    "                #band_array[:,:,i] = img[:600,:1400]\n",
    "                band_array[:,:,i] = img\n",
    "                i+=1\n",
    "    return band_array\n"
   ]
  },
  {
   "cell_type": "code",
   "execution_count": 102,
   "metadata": {},
   "outputs": [],
   "source": [
    "def delete_land(img):\n",
    "    labels,clust = kmeans(img, 2)\n",
    "    spectral_sign = {'water': [ 0.10384066, 0.13632251, 0.16474463, \n",
    "       0.3045134], 'ground':[ 0.03796409, 0.03244987, 0.02011696, 0.01891139]\n",
    "                    ,'plastic' : [0.03825 , 0.037625, 0.0334 , 0.055125]}\n",
    "    d1 = distance.euclidean(clust[0], spectral_sign['ground'])\n",
    "    d2 = distance.euclidean(clust[1], spectral_sign['ground'])\n",
    "    ground_label = 100\n",
    "     \n",
    "    if d1<d2:\n",
    "        ground_label = 1\n",
    "    else : \n",
    "        ground_label = 0\n",
    "        \n",
    "    result = img.copy()\n",
    "    for i in range(img.shape[0]):\n",
    "        for j in range(img.shape[1]):\n",
    "            if labels[i,j] == ground_label :\n",
    "                result[i,j] = spectral_sign['water']\n",
    "                #result[i,j+1] = spectral_sign['water']\n",
    "                #result[i,j+2] = spectral_sign['water']\n",
    "\n",
    "    plt.figure()  \n",
    "    \n",
    "    plt.imshow(result[:,:,0])\n",
    "    plt.title('result')\n",
    "    return result\n",
    "\n",
    "    "
   ]
  },
  {
   "cell_type": "code",
   "execution_count": 103,
   "metadata": {},
   "outputs": [],
   "source": [
    "def kmeans(arrays, nb_clust):\n",
    "    arrays_flat=np.array([arrays[:,:,i].flatten() for i in range(arrays.shape[2])])\n",
    "    X=(np.transpose(arrays_flat))\n",
    "    kmeans = KMeans(n_clusters=nb_clust,  init='k-means++', n_init=10, max_iter=1000) # tester k-means méthod max?\n",
    "    kmeans.fit(X)\n",
    "    labels=kmeans.labels_\n",
    "    clust = kmeans.cluster_centers_\n",
    "    plastic_index = 0\n",
    "    nb = 99999\n",
    "    nb_2 = 0\n",
    "    #img_labels = labels.reshape(600,1400)\n",
    "    img_labels = labels.reshape(84,183-125)\n",
    "    \n",
    "    plt.figure()\n",
    "    plt.imshow(img_labels)\n",
    "    plt.title('labels after kmeans')\n",
    "    \n",
    "    return img_labels,clust"
   ]
  },
  {
   "cell_type": "code",
   "execution_count": 104,
   "metadata": {},
   "outputs": [],
   "source": [
    "spectral_sign_4 = {'water': [ 0.10384066, 0.13632251, 0.16474463, \n",
    "       0.3045134], 'ground':[ 0.03796409, 0.03244987, 0.02011696, 0.01891139]}"
   ]
  },
  {
   "cell_type": "code",
   "execution_count": 107,
   "metadata": {},
   "outputs": [
    {
     "ename": "ValueError",
     "evalue": "could not broadcast input array from shape (84,183) into shape (84,58)",
     "output_type": "error",
     "traceback": [
      "\u001b[1;31m---------------------------------------------------------------------------\u001b[0m",
      "\u001b[1;31mValueError\u001b[0m                                Traceback (most recent call last)",
      "\u001b[1;32m<ipython-input-107-fbfecc6397e7>\u001b[0m in \u001b[0;36m<module>\u001b[1;34m\u001b[0m\n\u001b[1;32m----> 1\u001b[1;33m \u001b[0mimg\u001b[0m \u001b[1;33m=\u001b[0m  \u001b[0mget_array\u001b[0m\u001b[1;33m(\u001b[0m\u001b[1;34m'2019_06_07_M'\u001b[0m\u001b[1;33m)\u001b[0m\u001b[1;33m[\u001b[0m\u001b[1;33m:\u001b[0m\u001b[1;33m,\u001b[0m\u001b[1;36m125\u001b[0m\u001b[1;33m:\u001b[0m\u001b[1;33m,\u001b[0m\u001b[1;33m[\u001b[0m\u001b[1;36m1\u001b[0m\u001b[1;33m,\u001b[0m\u001b[1;36m2\u001b[0m\u001b[1;33m,\u001b[0m\u001b[1;36m3\u001b[0m\u001b[1;33m,\u001b[0m\u001b[1;36m7\u001b[0m\u001b[1;33m]\u001b[0m\u001b[1;33m]\u001b[0m\u001b[1;33m\u001b[0m\u001b[1;33m\u001b[0m\u001b[0m\n\u001b[0m\u001b[0;32m      2\u001b[0m \u001b[0mlabel\u001b[0m \u001b[1;33m=\u001b[0m \u001b[0mtifffile\u001b[0m\u001b[1;33m.\u001b[0m\u001b[0mimread\u001b[0m\u001b[1;33m(\u001b[0m\u001b[1;34m'./data/label/2019_06_07_M_label.tif'\u001b[0m\u001b[1;33m)\u001b[0m\u001b[1;33m[\u001b[0m\u001b[1;33m:\u001b[0m\u001b[1;33m,\u001b[0m\u001b[1;36m125\u001b[0m\u001b[1;33m:\u001b[0m\u001b[1;33m,\u001b[0m\u001b[1;36m0\u001b[0m\u001b[1;33m]\u001b[0m\u001b[1;33m\u001b[0m\u001b[1;33m\u001b[0m\u001b[0m\n",
      "\u001b[1;32m<ipython-input-101-5af66cf76050>\u001b[0m in \u001b[0;36mget_array\u001b[1;34m(folder)\u001b[0m\n\u001b[0;32m     19\u001b[0m                 \u001b[1;31m# crop the image not to have problems when creating patchs\u001b[0m\u001b[1;33m\u001b[0m\u001b[1;33m\u001b[0m\u001b[1;33m\u001b[0m\u001b[0m\n\u001b[0;32m     20\u001b[0m                 \u001b[1;31m#band_array[:,:,i] = img[:600,:1400]\u001b[0m\u001b[1;33m\u001b[0m\u001b[1;33m\u001b[0m\u001b[1;33m\u001b[0m\u001b[0m\n\u001b[1;32m---> 21\u001b[1;33m                 \u001b[0mband_array\u001b[0m\u001b[1;33m[\u001b[0m\u001b[1;33m:\u001b[0m\u001b[1;33m,\u001b[0m\u001b[1;33m:\u001b[0m\u001b[1;33m,\u001b[0m\u001b[0mi\u001b[0m\u001b[1;33m]\u001b[0m \u001b[1;33m=\u001b[0m \u001b[0mimg\u001b[0m\u001b[1;33m\u001b[0m\u001b[1;33m\u001b[0m\u001b[0m\n\u001b[0m\u001b[0;32m     22\u001b[0m                 \u001b[0mi\u001b[0m\u001b[1;33m+=\u001b[0m\u001b[1;36m1\u001b[0m\u001b[1;33m\u001b[0m\u001b[1;33m\u001b[0m\u001b[0m\n\u001b[0;32m     23\u001b[0m     \u001b[1;32mreturn\u001b[0m \u001b[0mband_array\u001b[0m\u001b[1;33m\u001b[0m\u001b[1;33m\u001b[0m\u001b[0m\n",
      "\u001b[1;31mValueError\u001b[0m: could not broadcast input array from shape (84,183) into shape (84,58)"
     ]
    }
   ],
   "source": [
    "img =  get_array('2019_06_07_M')[:,125:,[1,2,3,7]]\n",
    "label = tifffile.imread('./data/label/2019_06_07_M_label.tif')[:,125:,0]"
   ]
  },
  {
   "cell_type": "code",
   "execution_count": 106,
   "metadata": {},
   "outputs": [
    {
     "data": {
      "image/png": "[encoded data removed]",
      "text/plain": [
       "<Figure size 432x288 with 1 Axes>"
      ]
     },
     "metadata": {
      "needs_background": "light"
     },
     "output_type": "display_data"
    },
    {
     "data": {
      "image/png": "[encoded data removed]",
      "text/plain": [
       "<Figure size 432x288 with 1 Axes>"
      ]
     },
     "metadata": {
      "needs_background": "light"
     },
     "output_type": "display_data"
    }
   ],
   "source": [
    "img = delete_land(img)"
   ]
  },
  {
   "cell_type": "code",
   "execution_count": 86,
   "metadata": {},
   "outputs": [
    {
     "data": {
      "text/plain": [
       "(84, 183)"
      ]
     },
     "execution_count": 86,
     "metadata": {},
     "output_type": "execute_result"
    }
   ],
   "source": [
    "label.shape"
   ]
  },
  {
   "cell_type": "code",
   "execution_count": 87,
   "metadata": {},
   "outputs": [
    {
     "data": {
      "text/plain": [
       "(84, 183)"
      ]
     },
     "execution_count": 87,
     "metadata": {},
     "output_type": "execute_result"
    }
   ],
   "source": [
    "test_img =  get_array('2019_04_18_M')[:,:,[1,2,3,7]]\n",
    "test_label = tifffile.imread('./data/label/2019_04_18_M_label.tif')\n",
    "test_label.shape"
   ]
  },
  {
   "cell_type": "code",
   "execution_count": 88,
   "metadata": {},
   "outputs": [
    {
     "data": {
      "text/plain": [
       "(84, 183, 4)"
      ]
     },
     "execution_count": 88,
     "metadata": {},
     "output_type": "execute_result"
    }
   ],
   "source": [
    "test_img.shape"
   ]
  },
  {
   "cell_type": "code",
   "execution_count": 94,
   "metadata": {},
   "outputs": [
    {
     "name": "stderr",
     "output_type": "stream",
     "text": [
      "C:\\Users\\basil\\Anaconda3\\envs\\imsat\\lib\\site-packages\\ipykernel_launcher.py:9: DataConversionWarning: A column-vector y was passed when a 1d array was expected. Please change the shape of y to (n_samples,), for example using ravel().\n",
      "  if __name__ == '__main__':\n"
     ]
    },
    {
     "data": {
      "text/plain": [
       "RandomForestClassifier(max_depth=100, random_state=0)"
      ]
     },
     "execution_count": 94,
     "metadata": {},
     "output_type": "execute_result"
    }
   ],
   "source": [
    "#### training phase \n",
    "\n",
    "img_flat = np.array([img[:,:,i].flatten() for i in range(img.shape[2])])\n",
    "X = np.transpose(img_flat)\n",
    "y = np.array([label[:,:].flatten()])\n",
    "y = np.transpose(y)\n",
    "\n",
    "clf = RandomForestClassifier(max_depth=100, random_state=0)\n",
    "clf.fit(X,y)"
   ]
  },
  {
   "cell_type": "code",
   "execution_count": 95,
   "metadata": {},
   "outputs": [],
   "source": [
    "test_img_flat = np.array([test_img[:,:,i].flatten() for i in range(test_img.shape[2])])\n",
    "test_X = np.transpose(test_img_flat)\n",
    "test_y = np.array([test_label.flatten()])\n",
    "test_y = np.transpose(test_y)"
   ]
  },
  {
   "cell_type": "code",
   "execution_count": 96,
   "metadata": {},
   "outputs": [
    {
     "data": {
      "text/plain": [
       "(15372, 4)"
      ]
     },
     "execution_count": 96,
     "metadata": {},
     "output_type": "execute_result"
    }
   ],
   "source": [
    "test_X.shape"
   ]
  },
  {
   "cell_type": "code",
   "execution_count": 97,
   "metadata": {},
   "outputs": [],
   "source": [
    "pred = clf.predict(test_X)"
   ]
  },
  {
   "cell_type": "code",
   "execution_count": 98,
   "metadata": {},
   "outputs": [
    {
     "data": {
      "text/plain": [
       "<matplotlib.image.AxesImage at 0x2be1f44f108>"
      ]
     },
     "execution_count": 98,
     "metadata": {},
     "output_type": "execute_result"
    },
    {
     "data": {
      "image/png": "[encoded data removed]",
      "text/plain": [
       "<Figure size 432x288 with 1 Axes>"
      ]
     },
     "metadata": {
      "needs_background": "light"
     },
     "output_type": "display_data"
    }
   ],
   "source": [
    "plt.imshow(pred.reshape(84,183))"
   ]
  },
  {
   "cell_type": "code",
   "execution_count": null,
   "metadata": {},
   "outputs": [],
   "source": []
  }
 ],
 "metadata": {
  "kernelspec": {
   "display_name": "Python 3",
   "language": "python",
   "name": "python3"
  },
  "language_info": {
   "codemirror_mode": {
    "name": "ipython",
    "version": 3
   },
   "file_extension": ".py",
   "mimetype": "text/x-python",
   "name": "python",
   "nbconvert_exporter": "python",
   "pygments_lexer": "ipython3",
   "version": "3.7.9"
  }
 },
 "nbformat": 4,
 "nbformat_minor": 4
}
