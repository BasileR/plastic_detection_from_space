{
 "cells": [
  {
   "cell_type": "markdown",
   "metadata": {},
   "source": [
    "# Creation of a dataset with modified pixels so as to simulate the presence of plastic litter\n",
    "\n",
    "Thanks to state of the art researchers and the begining of our work, we manage to get plastic spectral signature. With this spectral signature, we can easily simulate the presence of plastic pixels in another image, free from plastic. The goal of this notebook is to create such a dataset, centered on the Greek island Mytilene (where the researchers deployed plastic targets) so as to keep the same 'envrionnement' to begin.\n",
    "\n",
    "The idea of this dataset is to generate labelled data. We will be able to train a model on this dataset, and test it on images where the presence of plastic targets is verified (for exemple, images of the plastic targets of the plastic litter project)."
   ]
  },
  {
   "cell_type": "markdown",
   "metadata": {},
   "source": [
    "The dataset will be based on a sentinel 2 image (called tile) centered on Mytilene. The idea is to create patches from this tile, with a shape 150x150xN where N is the number of spectral bands. Each patch will be labelled with a mask : 0 where no plastic, and 1 for plastic. \n",
    "\n",
    "The dataset will have the foloowing structure : \n",
    "\n",
    "data/simplastic/\n",
    "\n",
    "            - img\n",
    "                - img1.tif\n",
    "                - img2.tif\n",
    "                - ...\n",
    "            - label\n",
    "                - label1.tif\n",
    "                - label2.tif\n",
    "                - ..."
   ]
  },
  {
   "cell_type": "code",
   "execution_count": 1,
   "metadata": {},
   "outputs": [],
   "source": [
    "## import libraries and utils\n",
    "import utils\n",
    "import tifffile\n",
    "import cv2\n",
    "import matplotlib.pyplot as plt\n",
    "import numpy as np "
   ]
  },
  {
   "cell_type": "code",
   "execution_count": null,
   "metadata": {},
   "outputs": [],
   "source": [
    "## Load the tile\n",
    "\n"
   ]
  }
 ],
 "metadata": {
  "kernelspec": {
   "display_name": "Python 3",
   "language": "python",
   "name": "python3"
  },
  "language_info": {
   "codemirror_mode": {
    "name": "ipython",
    "version": 3
   },
   "file_extension": ".py",
   "mimetype": "text/x-python",
   "name": "python",
   "nbconvert_exporter": "python",
   "pygments_lexer": "ipython3",
   "version": "3.7.9"
  }
 },
 "nbformat": 4,
 "nbformat_minor": 4
}
